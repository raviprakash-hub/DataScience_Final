{
 "cells": [
  {
   "cell_type": "code",
   "execution_count": 1,
   "id": "f3ce9687",
   "metadata": {},
   "outputs": [],
   "source": [
    "# importing required \n",
    "import pandas as pd\n",
    "import numpy as np\n",
    "import matplotlib.pyplot as plt\n",
    "import seaborn as sns\n",
    "import warnings\n",
    "warnings.filterwarnings(\"ignore\")"
   ]
  },
  {
   "cell_type": "code",
   "execution_count": 2,
   "id": "031e1ef6",
   "metadata": {},
   "outputs": [],
   "source": [
    "#reading csv file\n",
    "df=pd.read_csv('Batchwise Attendance Data - Class 1.csv')"
   ]
  },
  {
   "cell_type": "code",
   "execution_count": 3,
   "id": "22b915dc",
   "metadata": {},
   "outputs": [
    {
     "data": {
      "text/html": [
       "<div>\n",
       "<style scoped>\n",
       "    .dataframe tbody tr th:only-of-type {\n",
       "        vertical-align: middle;\n",
       "    }\n",
       "\n",
       "    .dataframe tbody tr th {\n",
       "        vertical-align: top;\n",
       "    }\n",
       "\n",
       "    .dataframe thead th {\n",
       "        text-align: right;\n",
       "    }\n",
       "</style>\n",
       "<table border=\"1\" class=\"dataframe\">\n",
       "  <thead>\n",
       "    <tr style=\"text-align: right;\">\n",
       "      <th></th>\n",
       "      <th>Student Roll Num</th>\n",
       "      <th>Type</th>\n",
       "      <th>10-01-2021</th>\n",
       "      <th>R-10-01-21</th>\n",
       "      <th>09-01-2021</th>\n",
       "      <th>R-9-01-21</th>\n",
       "      <th>08-01-2021</th>\n",
       "      <th>R-8-01-21</th>\n",
       "      <th>07-01-2021</th>\n",
       "      <th>R-7-01-21</th>\n",
       "      <th>...</th>\n",
       "      <th>05-01-2021</th>\n",
       "      <th>R-5-01-21</th>\n",
       "      <th>04-01-2021</th>\n",
       "      <th>R-4-01-21</th>\n",
       "      <th>03-01-2021</th>\n",
       "      <th>R-3-01-21</th>\n",
       "      <th>02-01-2021</th>\n",
       "      <th>R-02-01-21</th>\n",
       "      <th>01-01-2021</th>\n",
       "      <th>R-01-01-21</th>\n",
       "    </tr>\n",
       "  </thead>\n",
       "  <tbody>\n",
       "    <tr>\n",
       "      <th>0</th>\n",
       "      <td>1</td>\n",
       "      <td>WORKING</td>\n",
       "      <td>Missed</td>\n",
       "      <td>8</td>\n",
       "      <td>Missed</td>\n",
       "      <td>6</td>\n",
       "      <td>Missed</td>\n",
       "      <td>5</td>\n",
       "      <td>Missed</td>\n",
       "      <td>6</td>\n",
       "      <td>...</td>\n",
       "      <td>Missed</td>\n",
       "      <td>7</td>\n",
       "      <td>Missed</td>\n",
       "      <td>7</td>\n",
       "      <td>Missed</td>\n",
       "      <td>9</td>\n",
       "      <td>Missed</td>\n",
       "      <td>5</td>\n",
       "      <td>Missed</td>\n",
       "      <td>6</td>\n",
       "    </tr>\n",
       "    <tr>\n",
       "      <th>1</th>\n",
       "      <td>2</td>\n",
       "      <td>NaN</td>\n",
       "      <td>Missed</td>\n",
       "      <td>5</td>\n",
       "      <td>Missed</td>\n",
       "      <td>10</td>\n",
       "      <td>Missed</td>\n",
       "      <td>10</td>\n",
       "      <td>Attended</td>\n",
       "      <td>8</td>\n",
       "      <td>...</td>\n",
       "      <td>Attended</td>\n",
       "      <td>5</td>\n",
       "      <td>Attended</td>\n",
       "      <td>6</td>\n",
       "      <td>Missed</td>\n",
       "      <td>7</td>\n",
       "      <td>Attended</td>\n",
       "      <td>6</td>\n",
       "      <td>Missed</td>\n",
       "      <td>10</td>\n",
       "    </tr>\n",
       "    <tr>\n",
       "      <th>2</th>\n",
       "      <td>3</td>\n",
       "      <td>STUDENT</td>\n",
       "      <td>Missed</td>\n",
       "      <td>5</td>\n",
       "      <td>Missed</td>\n",
       "      <td>6</td>\n",
       "      <td>Missed</td>\n",
       "      <td>8</td>\n",
       "      <td>Missed</td>\n",
       "      <td>8</td>\n",
       "      <td>...</td>\n",
       "      <td>Attended</td>\n",
       "      <td>6</td>\n",
       "      <td>Missed</td>\n",
       "      <td>9</td>\n",
       "      <td>Missed</td>\n",
       "      <td>9</td>\n",
       "      <td>Attended</td>\n",
       "      <td>9</td>\n",
       "      <td>Attended</td>\n",
       "      <td>5</td>\n",
       "    </tr>\n",
       "    <tr>\n",
       "      <th>3</th>\n",
       "      <td>4</td>\n",
       "      <td>STUDENT</td>\n",
       "      <td>Missed</td>\n",
       "      <td>8</td>\n",
       "      <td>Missed</td>\n",
       "      <td>8</td>\n",
       "      <td>Attended</td>\n",
       "      <td>8</td>\n",
       "      <td>Missed</td>\n",
       "      <td>7</td>\n",
       "      <td>...</td>\n",
       "      <td>Missed</td>\n",
       "      <td>8</td>\n",
       "      <td>Attended</td>\n",
       "      <td>6</td>\n",
       "      <td>Attended</td>\n",
       "      <td>6</td>\n",
       "      <td>Attended</td>\n",
       "      <td>8</td>\n",
       "      <td>Attended</td>\n",
       "      <td>10</td>\n",
       "    </tr>\n",
       "    <tr>\n",
       "      <th>4</th>\n",
       "      <td>5</td>\n",
       "      <td>WORKING</td>\n",
       "      <td>Missed</td>\n",
       "      <td>6</td>\n",
       "      <td>Missed</td>\n",
       "      <td>5</td>\n",
       "      <td>Missed</td>\n",
       "      <td>10</td>\n",
       "      <td>Missed</td>\n",
       "      <td>8</td>\n",
       "      <td>...</td>\n",
       "      <td>Missed</td>\n",
       "      <td>10</td>\n",
       "      <td>Missed</td>\n",
       "      <td>5</td>\n",
       "      <td>Missed</td>\n",
       "      <td>6</td>\n",
       "      <td>Missed</td>\n",
       "      <td>10</td>\n",
       "      <td>Missed</td>\n",
       "      <td>5</td>\n",
       "    </tr>\n",
       "  </tbody>\n",
       "</table>\n",
       "<p>5 rows × 22 columns</p>\n",
       "</div>"
      ],
      "text/plain": [
       "   Student Roll Num     Type 10-01-2021  R-10-01-21 09-01-2021  R-9-01-21  \\\n",
       "0                 1  WORKING     Missed           8     Missed          6   \n",
       "1                 2      NaN     Missed           5     Missed         10   \n",
       "2                 3  STUDENT     Missed           5     Missed          6   \n",
       "3                 4  STUDENT     Missed           8     Missed          8   \n",
       "4                 5  WORKING     Missed           6     Missed          5   \n",
       "\n",
       "  08-01-2021  R-8-01-21 07-01-2021  R-7-01-21  ... 05-01-2021  R-5-01-21  \\\n",
       "0     Missed          5     Missed          6  ...     Missed          7   \n",
       "1     Missed         10   Attended          8  ...   Attended          5   \n",
       "2     Missed          8     Missed          8  ...   Attended          6   \n",
       "3   Attended          8     Missed          7  ...     Missed          8   \n",
       "4     Missed         10     Missed          8  ...     Missed         10   \n",
       "\n",
       "  04-01-2021  R-4-01-21 03-01-2021  R-3-01-21 02-01-2021  R-02-01-21  \\\n",
       "0     Missed          7     Missed          9     Missed           5   \n",
       "1   Attended          6     Missed          7   Attended           6   \n",
       "2     Missed          9     Missed          9   Attended           9   \n",
       "3   Attended          6   Attended          6   Attended           8   \n",
       "4     Missed          5     Missed          6     Missed          10   \n",
       "\n",
       "  01-01-2021  R-01-01-21  \n",
       "0     Missed           6  \n",
       "1     Missed          10  \n",
       "2   Attended           5  \n",
       "3   Attended          10  \n",
       "4     Missed           5  \n",
       "\n",
       "[5 rows x 22 columns]"
      ]
     },
     "execution_count": 3,
     "metadata": {},
     "output_type": "execute_result"
    }
   ],
   "source": [
    "df.head()"
   ]
  },
  {
   "cell_type": "code",
   "execution_count": 5,
   "id": "24b1423f",
   "metadata": {},
   "outputs": [
    {
     "data": {
      "text/plain": [
       "(57, 22)"
      ]
     },
     "execution_count": 5,
     "metadata": {},
     "output_type": "execute_result"
    }
   ],
   "source": [
    "df.shape"
   ]
  },
  {
   "cell_type": "code",
   "execution_count": 6,
   "id": "53d8ba53",
   "metadata": {},
   "outputs": [
    {
     "data": {
      "text/plain": [
       "Student Roll Num     0\n",
       "Type                25\n",
       "10-01-2021           0\n",
       "R-10-01-21           0\n",
       "09-01-2021           0\n",
       "R-9-01-21            0\n",
       "08-01-2021           0\n",
       "R-8-01-21            0\n",
       "07-01-2021           1\n",
       "R-7-01-21            0\n",
       "06-01-2021           1\n",
       "R-6-01-21            0\n",
       "05-01-2021           1\n",
       "R-5-01-21            0\n",
       "04-01-2021           1\n",
       "R-4-01-21            0\n",
       "03-01-2021           1\n",
       "R-3-01-21            0\n",
       "02-01-2021           1\n",
       "R-02-01-21           0\n",
       "01-01-2021           1\n",
       "R-01-01-21           0\n",
       "dtype: int64"
      ]
     },
     "execution_count": 6,
     "metadata": {},
     "output_type": "execute_result"
    }
   ],
   "source": [
    "#checking for null values\n",
    "df.isnull().sum()"
   ]
  },
  {
   "cell_type": "code",
   "execution_count": 8,
   "id": "b77789b1",
   "metadata": {},
   "outputs": [
    {
     "data": {
      "text/plain": [
       "352"
      ]
     },
     "execution_count": 8,
     "metadata": {},
     "output_type": "execute_result"
    }
   ],
   "source": [
    "df.isnull().sum().memory_usage()"
   ]
  },
  {
   "cell_type": "code",
   "execution_count": 9,
   "id": "e26b6aa6",
   "metadata": {},
   "outputs": [],
   "source": [
    "#reading another csv file\n",
    "df2=pd.read_csv('Batchwise Attendance Data - Class 2 (1).csv')"
   ]
  },
  {
   "cell_type": "code",
   "execution_count": 10,
   "id": "00e05f2c",
   "metadata": {},
   "outputs": [
    {
     "data": {
      "text/html": [
       "<div>\n",
       "<style scoped>\n",
       "    .dataframe tbody tr th:only-of-type {\n",
       "        vertical-align: middle;\n",
       "    }\n",
       "\n",
       "    .dataframe tbody tr th {\n",
       "        vertical-align: top;\n",
       "    }\n",
       "\n",
       "    .dataframe thead th {\n",
       "        text-align: right;\n",
       "    }\n",
       "</style>\n",
       "<table border=\"1\" class=\"dataframe\">\n",
       "  <thead>\n",
       "    <tr style=\"text-align: right;\">\n",
       "      <th></th>\n",
       "      <th>Student Roll Num</th>\n",
       "      <th>Type</th>\n",
       "      <th>10-01-21</th>\n",
       "      <th>R-10-01-21</th>\n",
       "      <th>09-01-21</th>\n",
       "      <th>R-9-01-21</th>\n",
       "      <th>08-01-21</th>\n",
       "      <th>R-8-01-21</th>\n",
       "      <th>07-01-21</th>\n",
       "      <th>R-7-01-21</th>\n",
       "      <th>...</th>\n",
       "      <th>05-01-21</th>\n",
       "      <th>R-5-01-21</th>\n",
       "      <th>04-01-21</th>\n",
       "      <th>R-4-01-21</th>\n",
       "      <th>03-01-21</th>\n",
       "      <th>R-3-01-21</th>\n",
       "      <th>Unnamed: 18</th>\n",
       "      <th>Unnamed: 19</th>\n",
       "      <th>01-01-21</th>\n",
       "      <th>R-01-01-21</th>\n",
       "    </tr>\n",
       "  </thead>\n",
       "  <tbody>\n",
       "    <tr>\n",
       "      <th>0</th>\n",
       "      <td>1</td>\n",
       "      <td>NaN</td>\n",
       "      <td>Attended</td>\n",
       "      <td>7</td>\n",
       "      <td>Attended</td>\n",
       "      <td>9</td>\n",
       "      <td>Attended</td>\n",
       "      <td>8</td>\n",
       "      <td>Attended</td>\n",
       "      <td>6</td>\n",
       "      <td>...</td>\n",
       "      <td>Attended</td>\n",
       "      <td>7</td>\n",
       "      <td>Attended</td>\n",
       "      <td>10</td>\n",
       "      <td>Missed</td>\n",
       "      <td>6</td>\n",
       "      <td>NaN</td>\n",
       "      <td>NaN</td>\n",
       "      <td>NaN</td>\n",
       "      <td>NaN</td>\n",
       "    </tr>\n",
       "    <tr>\n",
       "      <th>1</th>\n",
       "      <td>2</td>\n",
       "      <td>NaN</td>\n",
       "      <td>Attended</td>\n",
       "      <td>9</td>\n",
       "      <td>Attended</td>\n",
       "      <td>9</td>\n",
       "      <td>Attended</td>\n",
       "      <td>5</td>\n",
       "      <td>Attended</td>\n",
       "      <td>9</td>\n",
       "      <td>...</td>\n",
       "      <td>Attended</td>\n",
       "      <td>10</td>\n",
       "      <td>Attended</td>\n",
       "      <td>9</td>\n",
       "      <td>Attended</td>\n",
       "      <td>5</td>\n",
       "      <td>NaN</td>\n",
       "      <td>NaN</td>\n",
       "      <td>NaN</td>\n",
       "      <td>NaN</td>\n",
       "    </tr>\n",
       "    <tr>\n",
       "      <th>2</th>\n",
       "      <td>3</td>\n",
       "      <td>STUDENT</td>\n",
       "      <td>Missed</td>\n",
       "      <td>6</td>\n",
       "      <td>Missed</td>\n",
       "      <td>6</td>\n",
       "      <td>Missed</td>\n",
       "      <td>8</td>\n",
       "      <td>Missed</td>\n",
       "      <td>7</td>\n",
       "      <td>...</td>\n",
       "      <td>Missed</td>\n",
       "      <td>9</td>\n",
       "      <td>Missed</td>\n",
       "      <td>6</td>\n",
       "      <td>Missed</td>\n",
       "      <td>6</td>\n",
       "      <td>NaN</td>\n",
       "      <td>NaN</td>\n",
       "      <td>NaN</td>\n",
       "      <td>NaN</td>\n",
       "    </tr>\n",
       "    <tr>\n",
       "      <th>3</th>\n",
       "      <td>4</td>\n",
       "      <td>NaN</td>\n",
       "      <td>Attended</td>\n",
       "      <td>9</td>\n",
       "      <td>Attended</td>\n",
       "      <td>9</td>\n",
       "      <td>Attended</td>\n",
       "      <td>7</td>\n",
       "      <td>Attended</td>\n",
       "      <td>9</td>\n",
       "      <td>...</td>\n",
       "      <td>Missed</td>\n",
       "      <td>5</td>\n",
       "      <td>Attended</td>\n",
       "      <td>9</td>\n",
       "      <td>Attended</td>\n",
       "      <td>7</td>\n",
       "      <td>NaN</td>\n",
       "      <td>NaN</td>\n",
       "      <td>NaN</td>\n",
       "      <td>NaN</td>\n",
       "    </tr>\n",
       "    <tr>\n",
       "      <th>4</th>\n",
       "      <td>5</td>\n",
       "      <td>WORKING</td>\n",
       "      <td>Attended</td>\n",
       "      <td>5</td>\n",
       "      <td>Attended</td>\n",
       "      <td>10</td>\n",
       "      <td>Attended</td>\n",
       "      <td>10</td>\n",
       "      <td>Missed</td>\n",
       "      <td>6</td>\n",
       "      <td>...</td>\n",
       "      <td>Missed</td>\n",
       "      <td>10</td>\n",
       "      <td>Missed</td>\n",
       "      <td>9</td>\n",
       "      <td>Missed</td>\n",
       "      <td>5</td>\n",
       "      <td>NaN</td>\n",
       "      <td>NaN</td>\n",
       "      <td>NaN</td>\n",
       "      <td>NaN</td>\n",
       "    </tr>\n",
       "  </tbody>\n",
       "</table>\n",
       "<p>5 rows × 22 columns</p>\n",
       "</div>"
      ],
      "text/plain": [
       "   Student Roll Num     Type  10-01-21  R-10-01-21  09-01-21  R-9-01-21  \\\n",
       "0                 1      NaN  Attended           7  Attended          9   \n",
       "1                 2      NaN  Attended           9  Attended          9   \n",
       "2                 3  STUDENT    Missed           6    Missed          6   \n",
       "3                 4      NaN  Attended           9  Attended          9   \n",
       "4                 5  WORKING  Attended           5  Attended         10   \n",
       "\n",
       "   08-01-21  R-8-01-21  07-01-21  R-7-01-21  ...  05-01-21  R-5-01-21  \\\n",
       "0  Attended          8  Attended          6  ...  Attended          7   \n",
       "1  Attended          5  Attended          9  ...  Attended         10   \n",
       "2    Missed          8    Missed          7  ...    Missed          9   \n",
       "3  Attended          7  Attended          9  ...    Missed          5   \n",
       "4  Attended         10    Missed          6  ...    Missed         10   \n",
       "\n",
       "   04-01-21  R-4-01-21  03-01-21  R-3-01-21 Unnamed: 18  Unnamed: 19  \\\n",
       "0  Attended         10    Missed          6         NaN          NaN   \n",
       "1  Attended          9  Attended          5         NaN          NaN   \n",
       "2    Missed          6    Missed          6         NaN          NaN   \n",
       "3  Attended          9  Attended          7         NaN          NaN   \n",
       "4    Missed          9    Missed          5         NaN          NaN   \n",
       "\n",
       "   01-01-21  R-01-01-21  \n",
       "0       NaN         NaN  \n",
       "1       NaN         NaN  \n",
       "2       NaN         NaN  \n",
       "3       NaN         NaN  \n",
       "4       NaN         NaN  \n",
       "\n",
       "[5 rows x 22 columns]"
      ]
     },
     "execution_count": 10,
     "metadata": {},
     "output_type": "execute_result"
    }
   ],
   "source": [
    "df2.head()"
   ]
  },
  {
   "cell_type": "code",
   "execution_count": 11,
   "id": "c21f7e7a",
   "metadata": {},
   "outputs": [
    {
     "data": {
      "text/plain": [
       "(70, 22)"
      ]
     },
     "execution_count": 11,
     "metadata": {},
     "output_type": "execute_result"
    }
   ],
   "source": [
    "df2.shape"
   ]
  },
  {
   "cell_type": "code",
   "execution_count": 12,
   "id": "e5aca45e",
   "metadata": {},
   "outputs": [
    {
     "data": {
      "text/plain": [
       "Student Roll Num     0\n",
       "Type                40\n",
       "10-01-21             0\n",
       "R-10-01-21           0\n",
       "09-01-21             0\n",
       "R-9-01-21            0\n",
       "08-01-21             0\n",
       "R-8-01-21            0\n",
       "07-01-21             1\n",
       "R-7-01-21            0\n",
       "06-01-21             1\n",
       "R-6-01-21            0\n",
       "05-01-21             1\n",
       "R-5-01-21            0\n",
       "04-01-21             1\n",
       "R-4-01-21            0\n",
       "03-01-21             3\n",
       "R-3-01-21            0\n",
       "Unnamed: 18         70\n",
       "Unnamed: 19         70\n",
       "01-01-21            70\n",
       "R-01-01-21          70\n",
       "dtype: int64"
      ]
     },
     "execution_count": 12,
     "metadata": {},
     "output_type": "execute_result"
    }
   ],
   "source": [
    "#checking for null values\n",
    "df2.isnull().sum()"
   ]
  },
  {
   "cell_type": "code",
   "execution_count": 13,
   "id": "16caa590",
   "metadata": {},
   "outputs": [
    {
     "data": {
      "text/plain": [
       "352"
      ]
     },
     "execution_count": 13,
     "metadata": {},
     "output_type": "execute_result"
    }
   ],
   "source": [
    "df2.isnull().sum().memory_usage()"
   ]
  },
  {
   "cell_type": "code",
   "execution_count": 14,
   "id": "3ca452d8",
   "metadata": {},
   "outputs": [
    {
     "data": {
      "text/plain": [
       "0         NaN\n",
       "1         NaN\n",
       "2     STUDENT\n",
       "3         NaN\n",
       "4     WORKING\n",
       "       ...   \n",
       "65     IGNORE\n",
       "66    STUDENT\n",
       "67        NaN\n",
       "68        NaN\n",
       "69        NaN\n",
       "Name: Type, Length: 70, dtype: object"
      ]
     },
     "execution_count": 14,
     "metadata": {},
     "output_type": "execute_result"
    }
   ],
   "source": [
    "# replacing all the null values of Type column with STUDENT\n",
    "df2['Type'].replace(['NaN'],'student')"
   ]
  },
  {
   "cell_type": "code",
   "execution_count": 15,
   "id": "d17e2ada",
   "metadata": {},
   "outputs": [],
   "source": [
    "df2['Type'] = df2['Type'].fillna('STUDENT')"
   ]
  },
  {
   "cell_type": "code",
   "execution_count": 16,
   "id": "26078a2e",
   "metadata": {},
   "outputs": [],
   "source": [
    "df['Type'] = df['Type'].fillna('STUDENT')"
   ]
  },
  {
   "cell_type": "code",
   "execution_count": 17,
   "id": "bd7bf54a",
   "metadata": {},
   "outputs": [
    {
     "data": {
      "text/plain": [
       "Student Roll Num    0\n",
       "Type                0\n",
       "10-01-2021          0\n",
       "R-10-01-21          0\n",
       "09-01-2021          0\n",
       "R-9-01-21           0\n",
       "08-01-2021          0\n",
       "R-8-01-21           0\n",
       "07-01-2021          1\n",
       "R-7-01-21           0\n",
       "06-01-2021          1\n",
       "R-6-01-21           0\n",
       "05-01-2021          1\n",
       "R-5-01-21           0\n",
       "04-01-2021          1\n",
       "R-4-01-21           0\n",
       "03-01-2021          1\n",
       "R-3-01-21           0\n",
       "02-01-2021          1\n",
       "R-02-01-21          0\n",
       "01-01-2021          1\n",
       "R-01-01-21          0\n",
       "dtype: int64"
      ]
     },
     "execution_count": 17,
     "metadata": {},
     "output_type": "execute_result"
    }
   ],
   "source": [
    "df.isna().sum()"
   ]
  },
  {
   "cell_type": "code",
   "execution_count": 18,
   "id": "be22431c",
   "metadata": {},
   "outputs": [
    {
     "data": {
      "text/plain": [
       "Student Roll Num     0\n",
       "Type                 0\n",
       "10-01-21             0\n",
       "R-10-01-21           0\n",
       "09-01-21             0\n",
       "R-9-01-21            0\n",
       "08-01-21             0\n",
       "R-8-01-21            0\n",
       "07-01-21             1\n",
       "R-7-01-21            0\n",
       "06-01-21             1\n",
       "R-6-01-21            0\n",
       "05-01-21             1\n",
       "R-5-01-21            0\n",
       "04-01-21             1\n",
       "R-4-01-21            0\n",
       "03-01-21             3\n",
       "R-3-01-21            0\n",
       "Unnamed: 18         70\n",
       "Unnamed: 19         70\n",
       "01-01-21            70\n",
       "R-01-01-21          70\n",
       "dtype: int64"
      ]
     },
     "execution_count": 18,
     "metadata": {},
     "output_type": "execute_result"
    }
   ],
   "source": [
    "df2.isna().sum()"
   ]
  },
  {
   "cell_type": "code",
   "execution_count": 20,
   "id": "3133d23b",
   "metadata": {},
   "outputs": [],
   "source": [
    "# since last four columns are totally empty lets remove them\n",
    "df2.drop(['Unnamed: 18','Unnamed: 19','01-01-21','R-01-01-21'],axis=1,inplace=True)"
   ]
  },
  {
   "cell_type": "code",
   "execution_count": 21,
   "id": "5b967bb4",
   "metadata": {},
   "outputs": [
    {
     "data": {
      "text/plain": [
       "Student Roll Num    0\n",
       "Type                0\n",
       "10-01-21            0\n",
       "R-10-01-21          0\n",
       "09-01-21            0\n",
       "R-9-01-21           0\n",
       "08-01-21            0\n",
       "R-8-01-21           0\n",
       "07-01-21            1\n",
       "R-7-01-21           0\n",
       "06-01-21            1\n",
       "R-6-01-21           0\n",
       "05-01-21            1\n",
       "R-5-01-21           0\n",
       "04-01-21            1\n",
       "R-4-01-21           0\n",
       "03-01-21            3\n",
       "R-3-01-21           0\n",
       "dtype: int64"
      ]
     },
     "execution_count": 21,
     "metadata": {},
     "output_type": "execute_result"
    }
   ],
   "source": [
    "# again checking the null values\n",
    "df2.isnull().sum()"
   ]
  },
  {
   "cell_type": "code",
   "execution_count": 22,
   "id": "ab9577b8",
   "metadata": {},
   "outputs": [],
   "source": [
    "from sklearn.impute import SimpleImputer"
   ]
  },
  {
   "cell_type": "code",
   "execution_count": 23,
   "id": "007b9be1",
   "metadata": {},
   "outputs": [],
   "source": [
    "# imputing missing data from df\n",
    "# SINCE THERE ARE VERY LESS NUMBER OF MISSING DATA WE CAN REPLACE THEM WITH MODEL OF THE ENTIRE COLUMN\n",
    "imputer = SimpleImputer(strategy='most_frequent')\n",
    "new_df = imputer.fit_transform(df)"
   ]
  },
  {
   "cell_type": "code",
   "execution_count": 25,
   "id": "77a1c3c7",
   "metadata": {},
   "outputs": [
    {
     "data": {
      "text/plain": [
       "array([[1, 'WORKING', 'Missed', ..., 5, 'Missed', 6],\n",
       "       [2, 'STUDENT', 'Missed', ..., 6, 'Missed', 10],\n",
       "       [3, 'STUDENT', 'Missed', ..., 9, 'Attended', 5],\n",
       "       ...,\n",
       "       [55, 'WORKING', 'Missed', ..., 7, 'Missed', 9],\n",
       "       [56, 'STUDENT', 'Attended', ..., 10, 'Attended', 5],\n",
       "       [57, 'STUDENT', 'Attended', ..., 8, 'Attended', 9]], dtype=object)"
      ]
     },
     "execution_count": 25,
     "metadata": {},
     "output_type": "execute_result"
    }
   ],
   "source": [
    "new_df"
   ]
  },
  {
   "cell_type": "code",
   "execution_count": 26,
   "id": "e8921dec",
   "metadata": {},
   "outputs": [],
   "source": [
    "df = pd.DataFrame(new_df,columns = df.columns)"
   ]
  },
  {
   "cell_type": "code",
   "execution_count": 27,
   "id": "b9b64837",
   "metadata": {},
   "outputs": [
    {
     "data": {
      "text/html": [
       "<div>\n",
       "<style scoped>\n",
       "    .dataframe tbody tr th:only-of-type {\n",
       "        vertical-align: middle;\n",
       "    }\n",
       "\n",
       "    .dataframe tbody tr th {\n",
       "        vertical-align: top;\n",
       "    }\n",
       "\n",
       "    .dataframe thead th {\n",
       "        text-align: right;\n",
       "    }\n",
       "</style>\n",
       "<table border=\"1\" class=\"dataframe\">\n",
       "  <thead>\n",
       "    <tr style=\"text-align: right;\">\n",
       "      <th></th>\n",
       "      <th>Student Roll Num</th>\n",
       "      <th>Type</th>\n",
       "      <th>10-01-2021</th>\n",
       "      <th>R-10-01-21</th>\n",
       "      <th>09-01-2021</th>\n",
       "      <th>R-9-01-21</th>\n",
       "      <th>08-01-2021</th>\n",
       "      <th>R-8-01-21</th>\n",
       "      <th>07-01-2021</th>\n",
       "      <th>R-7-01-21</th>\n",
       "      <th>...</th>\n",
       "      <th>05-01-2021</th>\n",
       "      <th>R-5-01-21</th>\n",
       "      <th>04-01-2021</th>\n",
       "      <th>R-4-01-21</th>\n",
       "      <th>03-01-2021</th>\n",
       "      <th>R-3-01-21</th>\n",
       "      <th>02-01-2021</th>\n",
       "      <th>R-02-01-21</th>\n",
       "      <th>01-01-2021</th>\n",
       "      <th>R-01-01-21</th>\n",
       "    </tr>\n",
       "  </thead>\n",
       "  <tbody>\n",
       "    <tr>\n",
       "      <th>0</th>\n",
       "      <td>1</td>\n",
       "      <td>WORKING</td>\n",
       "      <td>Missed</td>\n",
       "      <td>8</td>\n",
       "      <td>Missed</td>\n",
       "      <td>6</td>\n",
       "      <td>Missed</td>\n",
       "      <td>5</td>\n",
       "      <td>Missed</td>\n",
       "      <td>6</td>\n",
       "      <td>...</td>\n",
       "      <td>Missed</td>\n",
       "      <td>7</td>\n",
       "      <td>Missed</td>\n",
       "      <td>7</td>\n",
       "      <td>Missed</td>\n",
       "      <td>9</td>\n",
       "      <td>Missed</td>\n",
       "      <td>5</td>\n",
       "      <td>Missed</td>\n",
       "      <td>6</td>\n",
       "    </tr>\n",
       "    <tr>\n",
       "      <th>1</th>\n",
       "      <td>2</td>\n",
       "      <td>STUDENT</td>\n",
       "      <td>Missed</td>\n",
       "      <td>5</td>\n",
       "      <td>Missed</td>\n",
       "      <td>10</td>\n",
       "      <td>Missed</td>\n",
       "      <td>10</td>\n",
       "      <td>Attended</td>\n",
       "      <td>8</td>\n",
       "      <td>...</td>\n",
       "      <td>Attended</td>\n",
       "      <td>5</td>\n",
       "      <td>Attended</td>\n",
       "      <td>6</td>\n",
       "      <td>Missed</td>\n",
       "      <td>7</td>\n",
       "      <td>Attended</td>\n",
       "      <td>6</td>\n",
       "      <td>Missed</td>\n",
       "      <td>10</td>\n",
       "    </tr>\n",
       "    <tr>\n",
       "      <th>2</th>\n",
       "      <td>3</td>\n",
       "      <td>STUDENT</td>\n",
       "      <td>Missed</td>\n",
       "      <td>5</td>\n",
       "      <td>Missed</td>\n",
       "      <td>6</td>\n",
       "      <td>Missed</td>\n",
       "      <td>8</td>\n",
       "      <td>Missed</td>\n",
       "      <td>8</td>\n",
       "      <td>...</td>\n",
       "      <td>Attended</td>\n",
       "      <td>6</td>\n",
       "      <td>Missed</td>\n",
       "      <td>9</td>\n",
       "      <td>Missed</td>\n",
       "      <td>9</td>\n",
       "      <td>Attended</td>\n",
       "      <td>9</td>\n",
       "      <td>Attended</td>\n",
       "      <td>5</td>\n",
       "    </tr>\n",
       "    <tr>\n",
       "      <th>3</th>\n",
       "      <td>4</td>\n",
       "      <td>STUDENT</td>\n",
       "      <td>Missed</td>\n",
       "      <td>8</td>\n",
       "      <td>Missed</td>\n",
       "      <td>8</td>\n",
       "      <td>Attended</td>\n",
       "      <td>8</td>\n",
       "      <td>Missed</td>\n",
       "      <td>7</td>\n",
       "      <td>...</td>\n",
       "      <td>Missed</td>\n",
       "      <td>8</td>\n",
       "      <td>Attended</td>\n",
       "      <td>6</td>\n",
       "      <td>Attended</td>\n",
       "      <td>6</td>\n",
       "      <td>Attended</td>\n",
       "      <td>8</td>\n",
       "      <td>Attended</td>\n",
       "      <td>10</td>\n",
       "    </tr>\n",
       "    <tr>\n",
       "      <th>4</th>\n",
       "      <td>5</td>\n",
       "      <td>WORKING</td>\n",
       "      <td>Missed</td>\n",
       "      <td>6</td>\n",
       "      <td>Missed</td>\n",
       "      <td>5</td>\n",
       "      <td>Missed</td>\n",
       "      <td>10</td>\n",
       "      <td>Missed</td>\n",
       "      <td>8</td>\n",
       "      <td>...</td>\n",
       "      <td>Missed</td>\n",
       "      <td>10</td>\n",
       "      <td>Missed</td>\n",
       "      <td>5</td>\n",
       "      <td>Missed</td>\n",
       "      <td>6</td>\n",
       "      <td>Missed</td>\n",
       "      <td>10</td>\n",
       "      <td>Missed</td>\n",
       "      <td>5</td>\n",
       "    </tr>\n",
       "  </tbody>\n",
       "</table>\n",
       "<p>5 rows × 22 columns</p>\n",
       "</div>"
      ],
      "text/plain": [
       "  Student Roll Num     Type 10-01-2021 R-10-01-21 09-01-2021 R-9-01-21  \\\n",
       "0                1  WORKING     Missed          8     Missed         6   \n",
       "1                2  STUDENT     Missed          5     Missed        10   \n",
       "2                3  STUDENT     Missed          5     Missed         6   \n",
       "3                4  STUDENT     Missed          8     Missed         8   \n",
       "4                5  WORKING     Missed          6     Missed         5   \n",
       "\n",
       "  08-01-2021 R-8-01-21 07-01-2021 R-7-01-21  ... 05-01-2021 R-5-01-21  \\\n",
       "0     Missed         5     Missed         6  ...     Missed         7   \n",
       "1     Missed        10   Attended         8  ...   Attended         5   \n",
       "2     Missed         8     Missed         8  ...   Attended         6   \n",
       "3   Attended         8     Missed         7  ...     Missed         8   \n",
       "4     Missed        10     Missed         8  ...     Missed        10   \n",
       "\n",
       "  04-01-2021 R-4-01-21 03-01-2021 R-3-01-21 02-01-2021 R-02-01-21 01-01-2021  \\\n",
       "0     Missed         7     Missed         9     Missed          5     Missed   \n",
       "1   Attended         6     Missed         7   Attended          6     Missed   \n",
       "2     Missed         9     Missed         9   Attended          9   Attended   \n",
       "3   Attended         6   Attended         6   Attended          8   Attended   \n",
       "4     Missed         5     Missed         6     Missed         10     Missed   \n",
       "\n",
       "  R-01-01-21  \n",
       "0          6  \n",
       "1         10  \n",
       "2          5  \n",
       "3         10  \n",
       "4          5  \n",
       "\n",
       "[5 rows x 22 columns]"
      ]
     },
     "execution_count": 27,
     "metadata": {},
     "output_type": "execute_result"
    }
   ],
   "source": [
    "df.head()"
   ]
  },
  {
   "cell_type": "code",
   "execution_count": 28,
   "id": "6b69084d",
   "metadata": {},
   "outputs": [],
   "source": [
    "# imputing missing data from df2\n",
    "imputer = SimpleImputer(strategy='most_frequent')\n",
    "new_df2 = imputer.fit_transform(df2)"
   ]
  },
  {
   "cell_type": "code",
   "execution_count": 29,
   "id": "e27738e7",
   "metadata": {},
   "outputs": [],
   "source": [
    "df2 = pd.DataFrame(new_df2,columns=df2.columns)"
   ]
  },
  {
   "cell_type": "code",
   "execution_count": 30,
   "id": "79ef234c",
   "metadata": {},
   "outputs": [
    {
     "data": {
      "text/html": [
       "<div>\n",
       "<style scoped>\n",
       "    .dataframe tbody tr th:only-of-type {\n",
       "        vertical-align: middle;\n",
       "    }\n",
       "\n",
       "    .dataframe tbody tr th {\n",
       "        vertical-align: top;\n",
       "    }\n",
       "\n",
       "    .dataframe thead th {\n",
       "        text-align: right;\n",
       "    }\n",
       "</style>\n",
       "<table border=\"1\" class=\"dataframe\">\n",
       "  <thead>\n",
       "    <tr style=\"text-align: right;\">\n",
       "      <th></th>\n",
       "      <th>Student Roll Num</th>\n",
       "      <th>Type</th>\n",
       "      <th>10-01-21</th>\n",
       "      <th>R-10-01-21</th>\n",
       "      <th>09-01-21</th>\n",
       "      <th>R-9-01-21</th>\n",
       "      <th>08-01-21</th>\n",
       "      <th>R-8-01-21</th>\n",
       "      <th>07-01-21</th>\n",
       "      <th>R-7-01-21</th>\n",
       "      <th>06-01-21</th>\n",
       "      <th>R-6-01-21</th>\n",
       "      <th>05-01-21</th>\n",
       "      <th>R-5-01-21</th>\n",
       "      <th>04-01-21</th>\n",
       "      <th>R-4-01-21</th>\n",
       "      <th>03-01-21</th>\n",
       "      <th>R-3-01-21</th>\n",
       "    </tr>\n",
       "  </thead>\n",
       "  <tbody>\n",
       "    <tr>\n",
       "      <th>0</th>\n",
       "      <td>1</td>\n",
       "      <td>STUDENT</td>\n",
       "      <td>Attended</td>\n",
       "      <td>7</td>\n",
       "      <td>Attended</td>\n",
       "      <td>9</td>\n",
       "      <td>Attended</td>\n",
       "      <td>8</td>\n",
       "      <td>Attended</td>\n",
       "      <td>6</td>\n",
       "      <td>Attended</td>\n",
       "      <td>10</td>\n",
       "      <td>Attended</td>\n",
       "      <td>7</td>\n",
       "      <td>Attended</td>\n",
       "      <td>10</td>\n",
       "      <td>Missed</td>\n",
       "      <td>6</td>\n",
       "    </tr>\n",
       "    <tr>\n",
       "      <th>1</th>\n",
       "      <td>2</td>\n",
       "      <td>STUDENT</td>\n",
       "      <td>Attended</td>\n",
       "      <td>9</td>\n",
       "      <td>Attended</td>\n",
       "      <td>9</td>\n",
       "      <td>Attended</td>\n",
       "      <td>5</td>\n",
       "      <td>Attended</td>\n",
       "      <td>9</td>\n",
       "      <td>Attended</td>\n",
       "      <td>9</td>\n",
       "      <td>Attended</td>\n",
       "      <td>10</td>\n",
       "      <td>Attended</td>\n",
       "      <td>9</td>\n",
       "      <td>Attended</td>\n",
       "      <td>5</td>\n",
       "    </tr>\n",
       "    <tr>\n",
       "      <th>2</th>\n",
       "      <td>3</td>\n",
       "      <td>STUDENT</td>\n",
       "      <td>Missed</td>\n",
       "      <td>6</td>\n",
       "      <td>Missed</td>\n",
       "      <td>6</td>\n",
       "      <td>Missed</td>\n",
       "      <td>8</td>\n",
       "      <td>Missed</td>\n",
       "      <td>7</td>\n",
       "      <td>Missed</td>\n",
       "      <td>6</td>\n",
       "      <td>Missed</td>\n",
       "      <td>9</td>\n",
       "      <td>Missed</td>\n",
       "      <td>6</td>\n",
       "      <td>Missed</td>\n",
       "      <td>6</td>\n",
       "    </tr>\n",
       "    <tr>\n",
       "      <th>3</th>\n",
       "      <td>4</td>\n",
       "      <td>STUDENT</td>\n",
       "      <td>Attended</td>\n",
       "      <td>9</td>\n",
       "      <td>Attended</td>\n",
       "      <td>9</td>\n",
       "      <td>Attended</td>\n",
       "      <td>7</td>\n",
       "      <td>Attended</td>\n",
       "      <td>9</td>\n",
       "      <td>Missed</td>\n",
       "      <td>7</td>\n",
       "      <td>Missed</td>\n",
       "      <td>5</td>\n",
       "      <td>Attended</td>\n",
       "      <td>9</td>\n",
       "      <td>Attended</td>\n",
       "      <td>7</td>\n",
       "    </tr>\n",
       "    <tr>\n",
       "      <th>4</th>\n",
       "      <td>5</td>\n",
       "      <td>WORKING</td>\n",
       "      <td>Attended</td>\n",
       "      <td>5</td>\n",
       "      <td>Attended</td>\n",
       "      <td>10</td>\n",
       "      <td>Attended</td>\n",
       "      <td>10</td>\n",
       "      <td>Missed</td>\n",
       "      <td>6</td>\n",
       "      <td>Missed</td>\n",
       "      <td>9</td>\n",
       "      <td>Missed</td>\n",
       "      <td>10</td>\n",
       "      <td>Missed</td>\n",
       "      <td>9</td>\n",
       "      <td>Missed</td>\n",
       "      <td>5</td>\n",
       "    </tr>\n",
       "  </tbody>\n",
       "</table>\n",
       "</div>"
      ],
      "text/plain": [
       "  Student Roll Num     Type  10-01-21 R-10-01-21  09-01-21 R-9-01-21  \\\n",
       "0                1  STUDENT  Attended          7  Attended         9   \n",
       "1                2  STUDENT  Attended          9  Attended         9   \n",
       "2                3  STUDENT    Missed          6    Missed         6   \n",
       "3                4  STUDENT  Attended          9  Attended         9   \n",
       "4                5  WORKING  Attended          5  Attended        10   \n",
       "\n",
       "   08-01-21 R-8-01-21  07-01-21 R-7-01-21  06-01-21 R-6-01-21  05-01-21  \\\n",
       "0  Attended         8  Attended         6  Attended        10  Attended   \n",
       "1  Attended         5  Attended         9  Attended         9  Attended   \n",
       "2    Missed         8    Missed         7    Missed         6    Missed   \n",
       "3  Attended         7  Attended         9    Missed         7    Missed   \n",
       "4  Attended        10    Missed         6    Missed         9    Missed   \n",
       "\n",
       "  R-5-01-21  04-01-21 R-4-01-21  03-01-21 R-3-01-21  \n",
       "0         7  Attended        10    Missed         6  \n",
       "1        10  Attended         9  Attended         5  \n",
       "2         9    Missed         6    Missed         6  \n",
       "3         5  Attended         9  Attended         7  \n",
       "4        10    Missed         9    Missed         5  "
      ]
     },
     "execution_count": 30,
     "metadata": {},
     "output_type": "execute_result"
    }
   ],
   "source": [
    "df2.head()"
   ]
  },
  {
   "cell_type": "code",
   "execution_count": 34,
   "id": "eaef1f10",
   "metadata": {},
   "outputs": [
    {
     "name": "stdout",
     "output_type": "stream",
     "text": [
      "['WORKING' 'STUDENT' 'IGNORE' 'DROPOUT']\n",
      "['Missed' 'Attended']\n"
     ]
    }
   ],
   "source": [
    "print(df['Type'].unique())\n",
    "print(df['10-01-2021'].unique())"
   ]
  },
  {
   "cell_type": "code",
   "execution_count": 35,
   "id": "c09c9145",
   "metadata": {},
   "outputs": [
    {
     "name": "stdout",
     "output_type": "stream",
     "text": [
      "<class 'pandas.core.frame.DataFrame'>\n",
      "RangeIndex: 57 entries, 0 to 56\n",
      "Data columns (total 22 columns):\n",
      " #   Column            Non-Null Count  Dtype \n",
      "---  ------            --------------  ----- \n",
      " 0   Student Roll Num  57 non-null     object\n",
      " 1   Type              57 non-null     object\n",
      " 2   10-01-2021        57 non-null     object\n",
      " 3   R-10-01-21        57 non-null     object\n",
      " 4   09-01-2021        57 non-null     object\n",
      " 5   R-9-01-21         57 non-null     object\n",
      " 6   08-01-2021        57 non-null     object\n",
      " 7   R-8-01-21         57 non-null     object\n",
      " 8   07-01-2021        57 non-null     object\n",
      " 9   R-7-01-21         57 non-null     object\n",
      " 10  06-01-2021        57 non-null     object\n",
      " 11  R-6-01-21         57 non-null     object\n",
      " 12  05-01-2021        57 non-null     object\n",
      " 13  R-5-01-21         57 non-null     object\n",
      " 14  04-01-2021        57 non-null     object\n",
      " 15  R-4-01-21         57 non-null     object\n",
      " 16  03-01-2021        57 non-null     object\n",
      " 17  R-3-01-21         57 non-null     object\n",
      " 18  02-01-2021        57 non-null     object\n",
      " 19  R-02-01-21        57 non-null     object\n",
      " 20  01-01-2021        57 non-null     object\n",
      " 21  R-01-01-21        57 non-null     object\n",
      "dtypes: object(22)\n",
      "memory usage: 9.9+ KB\n"
     ]
    }
   ],
   "source": [
    "df.info()"
   ]
  },
  {
   "cell_type": "code",
   "execution_count": 36,
   "id": "0b69dbd5",
   "metadata": {},
   "outputs": [
    {
     "name": "stdout",
     "output_type": "stream",
     "text": [
      "<class 'pandas.core.frame.DataFrame'>\n",
      "RangeIndex: 70 entries, 0 to 69\n",
      "Data columns (total 18 columns):\n",
      " #   Column            Non-Null Count  Dtype \n",
      "---  ------            --------------  ----- \n",
      " 0   Student Roll Num  70 non-null     object\n",
      " 1   Type              70 non-null     object\n",
      " 2   10-01-21          70 non-null     object\n",
      " 3   R-10-01-21        70 non-null     object\n",
      " 4   09-01-21          70 non-null     object\n",
      " 5   R-9-01-21         70 non-null     object\n",
      " 6   08-01-21          70 non-null     object\n",
      " 7   R-8-01-21         70 non-null     object\n",
      " 8   07-01-21          70 non-null     object\n",
      " 9   R-7-01-21         70 non-null     object\n",
      " 10  06-01-21          70 non-null     object\n",
      " 11  R-6-01-21         70 non-null     object\n",
      " 12  05-01-21          70 non-null     object\n",
      " 13  R-5-01-21         70 non-null     object\n",
      " 14  04-01-21          70 non-null     object\n",
      " 15  R-4-01-21         70 non-null     object\n",
      " 16  03-01-21          70 non-null     object\n",
      " 17  R-3-01-21         70 non-null     object\n",
      "dtypes: object(18)\n",
      "memory usage: 10.0+ KB\n"
     ]
    }
   ],
   "source": [
    "df2.info()"
   ]
  },
  {
   "cell_type": "markdown",
   "id": "f40bd839",
   "metadata": {},
   "source": [
    "# For Class 1"
   ]
  },
  {
   "cell_type": "markdown",
   "id": "512986a5",
   "metadata": {},
   "source": [
    "# CONVERTING SPECIFIC DATES INTO THEIR OWN DATAFRAME FOR CLASS 1"
   ]
  },
  {
   "cell_type": "code",
   "execution_count": 38,
   "id": "0fbd40bf",
   "metadata": {},
   "outputs": [],
   "source": [
    "df_10 = df[['Student Roll Num','Type','10-01-2021','R-10-01-21']]\n",
    "df_9 = df[['Student Roll Num','Type','09-01-2021','R-9-01-21']]\n",
    "df_8 = df[['Student Roll Num','Type','08-01-2021','R-8-01-21']]\n",
    "df_7 = df[['Student Roll Num','Type','07-01-2021','R-7-01-21']]\n",
    "df_6 = df[['Student Roll Num','Type','06-01-2021','R-6-01-21']]\n",
    "df_5 = df[['Student Roll Num','Type','05-01-2021','R-5-01-21']]\n",
    "df_4 = df[['Student Roll Num','Type','04-01-2021','R-4-01-21']]\n",
    "df_3 = df[['Student Roll Num','Type','03-01-2021','R-3-01-21']]\n",
    "df_2 = df[['Student Roll Num','Type','02-01-2021','R-02-01-21']]\n",
    "df_1 = df[['Student Roll Num','Type','01-01-2021','R-01-01-21']]\n"
   ]
  },
  {
   "cell_type": "markdown",
   "id": "6c19fdca",
   "metadata": {},
   "source": [
    "# CONVERTING SPECIFIC DATES INTO THEIR OWN DATAFRAME FOR CLASS 2"
   ]
  },
  {
   "cell_type": "code",
   "execution_count": 39,
   "id": "65b965ff",
   "metadata": {},
   "outputs": [],
   "source": [
    "df2_10 = df2[['Student Roll Num','Type','10-01-21','R-10-01-21']]\n",
    "df2_9 = df2[['Student Roll Num','Type','09-01-21','R-9-01-21']]\n",
    "df2_8 = df2[['Student Roll Num','Type','08-01-21','R-8-01-21']]\n",
    "df2_7 = df2[['Student Roll Num','Type','07-01-21','R-7-01-21']]\n",
    "df2_6 = df2[['Student Roll Num','Type','06-01-21','R-6-01-21']]\n",
    "df2_5 = df2[['Student Roll Num','Type','05-01-21','R-5-01-21']]\n",
    "df2_4 = df2[['Student Roll Num','Type','04-01-21','R-4-01-21']]\n",
    "df2_3 = df2[['Student Roll Num','Type','03-01-21','R-3-01-21']]"
   ]
  },
  {
   "cell_type": "markdown",
   "id": "6156eb49",
   "metadata": {},
   "source": [
    "# class 1 statistics"
   ]
  },
  {
   "cell_type": "code",
   "execution_count": 40,
   "id": "360e4fa1",
   "metadata": {},
   "outputs": [],
   "source": [
    "import scipy.stats"
   ]
  },
  {
   "cell_type": "code",
   "execution_count": 41,
   "id": "99a2ff4b",
   "metadata": {},
   "outputs": [
    {
     "name": "stdout",
     "output_type": "stream",
     "text": [
      "[594, 473, 542, 523, 493, 510]\n"
     ]
    }
   ],
   "source": [
    "# SUMMING UP ALL THE PARTICULAR RATINGS FROM DIFFERENT DAYS\n",
    "rating = [5,6,7,8,9,10]\n",
    "total_rating_count =[]\n",
    "for r in rating:\n",
    "    count =0\n",
    "    rating_count = []\n",
    "    for i in df.columns:\n",
    "        if i[0] == 'R':\n",
    "            for j in df[i]:\n",
    "                if j == r:\n",
    "                    count+=1\n",
    "            rating_count.append(count)\n",
    "    total_rating_count.append(sum(rating_count))\n",
    "print(total_rating_count)"
   ]
  },
  {
   "cell_type": "code",
   "execution_count": 42,
   "id": "9446e648",
   "metadata": {},
   "outputs": [
    {
     "data": {
      "image/png": "[encoded data removed]",
      "text/plain": [
       "<Figure size 432x288 with 1 Axes>"
      ]
     },
     "metadata": {
      "needs_background": "light"
     },
     "output_type": "display_data"
    }
   ],
   "source": [
    "# PLOT FOR ratings\n",
    "plt.bar(rating,total_rating_count)\n",
    "plt.title('Total Rating From Different Days')\n",
    "plt.show()"
   ]
  },
  {
   "cell_type": "code",
   "execution_count": 43,
   "id": "9279939f",
   "metadata": {},
   "outputs": [
    {
     "name": "stdout",
     "output_type": "stream",
     "text": [
      "ModeResult(mode=array([[[6],\n",
      "        [12]]], dtype=object), count=array([[[3],\n",
      "        [4]]]))\n"
     ]
    }
   ],
   "source": [
    "# most of the students gave what type of ratings ?\n",
    "total_score = []\n",
    "for i in df.columns:\n",
    "    if i[0] == 'R':\n",
    "        total_score.append(scipy.stats.mode(df[i]))\n",
    "print(scipy.stats.mode(total_score))"
   ]
  },
  {
   "cell_type": "markdown",
   "id": "db7edde2",
   "metadata": {},
   "source": [
    "# Visualization for class 1\n"
   ]
  },
  {
   "cell_type": "code",
   "execution_count": 44,
   "id": "1fb086a2",
   "metadata": {},
   "outputs": [
    {
     "data": {
      "image/png": "[encoded data removed]",
      "text/plain": [
       "<Figure size 432x288 with 1 Axes>"
      ]
     },
     "metadata": {},
     "output_type": "display_data"
    },
    {
     "data": {
      "text/plain": [
       "STUDENT    4\n",
       "WORKING    1\n",
       "Name: Type, dtype: int64"
      ]
     },
     "execution_count": 44,
     "metadata": {},
     "output_type": "execute_result"
    }
   ],
   "source": [
    "plt.pie(df_10[df_10['R-10-01-21']>9]['Type'].value_counts(),labels=df_10[df_10['R-10-01-21']>9]['Type'].unique())\n",
    "plt.show()\n",
    "df_10[df_10['R-10-01-21']>9]['Type'].value_counts()"
   ]
  },
  {
   "cell_type": "code",
   "execution_count": 46,
   "id": "2e35e81f",
   "metadata": {},
   "outputs": [
    {
     "data": {
      "image/png": "[encoded data removed]",
      "text/plain": [
       "<Figure size 720x360 with 2 Axes>"
      ]
     },
     "metadata": {
      "needs_background": "light"
     },
     "output_type": "display_data"
    }
   ],
   "source": [
    "#number of the type of student who gave ratings\n",
    "sns.catplot('Type',col='10-01-2021',kind='count',data=df)\n",
    "plt.show()"
   ]
  },
  {
   "cell_type": "code",
   "execution_count": 48,
   "id": "a5c28b04",
   "metadata": {},
   "outputs": [
    {
     "data": {
      "text/plain": [
       "<AxesSubplot:xlabel='Type', ylabel='count'>"
      ]
     },
     "execution_count": 48,
     "metadata": {},
     "output_type": "execute_result"
    },
    {
     "data": {
      "image/png": "[encoded data removed]",
      "text/plain": [
       "<Figure size 432x288 with 1 Axes>"
      ]
     },
     "metadata": {
      "needs_background": "light"
     },
     "output_type": "display_data"
    }
   ],
   "source": [
    "sns.countplot(x='Type',\n",
    "             hue='R-10-01-21',\n",
    "             data=df)"
   ]
  },
  {
   "cell_type": "code",
   "execution_count": 49,
   "id": "868cf74b",
   "metadata": {},
   "outputs": [
    {
     "data": {
      "image/png": "[encoded data removed]",
      "text/plain": [
       "<Figure size 432x288 with 1 Axes>"
      ]
     },
     "metadata": {},
     "output_type": "display_data"
    },
    {
     "data": {
      "text/plain": [
       "STUDENT    9\n",
       "WORKING    3\n",
       "Name: Type, dtype: int64"
      ]
     },
     "execution_count": 49,
     "metadata": {},
     "output_type": "execute_result"
    }
   ],
   "source": [
    "# pie chart for type of student that attened class at R-9-01-21\n",
    "plt.pie(df_9[df_9['R-9-01-21']>9]['Type'].value_counts(),labels=df_9[df_9['R-9-01-21']>9]['Type'].unique())\n",
    "plt.show()\n",
    "df_9[df_9['R-9-01-21']>9]['Type'].value_counts()"
   ]
  },
  {
   "cell_type": "code",
   "execution_count": 51,
   "id": "a83b86f2",
   "metadata": {},
   "outputs": [
    {
     "data": {
      "image/png": "[encoded data removed]",
      "text/plain": [
       "<Figure size 720x360 with 2 Axes>"
      ]
     },
     "metadata": {
      "needs_background": "light"
     },
     "output_type": "display_data"
    }
   ],
   "source": [
    "sns.catplot('Type',col='09-01-2021',kind='count',data=df)\n",
    "plt.show()"
   ]
  },
  {
   "cell_type": "code",
   "execution_count": 52,
   "id": "e1c8679b",
   "metadata": {},
   "outputs": [
    {
     "data": {
      "text/plain": [
       "<AxesSubplot:xlabel='Type', ylabel='count'>"
      ]
     },
     "execution_count": 52,
     "metadata": {},
     "output_type": "execute_result"
    },
    {
     "data": {
      "image/png": "[encoded data removed]",
      "text/plain": [
       "<Figure size 432x288 with 1 Axes>"
      ]
     },
     "metadata": {
      "needs_background": "light"
     },
     "output_type": "display_data"
    }
   ],
   "source": [
    "sns.countplot(x='Type',\n",
    "             hue='R-9-01-21',\n",
    "             data=df)"
   ]
  },
  {
   "cell_type": "code",
   "execution_count": 53,
   "id": "b5002e24",
   "metadata": {},
   "outputs": [
    {
     "data": {
      "image/png": "[encoded data removed]",
      "text/plain": [
       "<Figure size 432x288 with 1 Axes>"
      ]
     },
     "metadata": {},
     "output_type": "display_data"
    },
    {
     "data": {
      "text/plain": [
       "STUDENT    8\n",
       "WORKING    1\n",
       "IGNORE     1\n",
       "Name: Type, dtype: int64"
      ]
     },
     "execution_count": 53,
     "metadata": {},
     "output_type": "execute_result"
    }
   ],
   "source": [
    "plt.pie(df_8[df_8['R-8-01-21']>9]['Type'].value_counts(),labels=df_8[df_8['R-8-01-21']>9]['Type'].unique())\n",
    "plt.show()\n",
    "df_8[df_8['R-8-01-21']>9]['Type'].value_counts()"
   ]
  },
  {
   "cell_type": "code",
   "execution_count": 55,
   "id": "6f76e69e",
   "metadata": {},
   "outputs": [
    {
     "data": {
      "image/png": "[encoded data removed]",
      "text/plain": [
       "<Figure size 720x360 with 2 Axes>"
      ]
     },
     "metadata": {
      "needs_background": "light"
     },
     "output_type": "display_data"
    }
   ],
   "source": [
    "sns.catplot('Type',col='08-01-2021',kind='count',data=df)\n",
    "plt.show()"
   ]
  },
  {
   "cell_type": "code",
   "execution_count": 56,
   "id": "759b27f7",
   "metadata": {},
   "outputs": [
    {
     "data": {
      "text/plain": [
       "<AxesSubplot:xlabel='Type', ylabel='count'>"
      ]
     },
     "execution_count": 56,
     "metadata": {},
     "output_type": "execute_result"
    },
    {
     "data": {
      "image/png": "[encoded data removed]",
      "text/plain": [
       "<Figure size 432x288 with 1 Axes>"
      ]
     },
     "metadata": {
      "needs_background": "light"
     },
     "output_type": "display_data"
    }
   ],
   "source": [
    "sns.countplot(x='Type',\n",
    "             hue='R-8-01-21',\n",
    "             data=df)"
   ]
  },
  {
   "cell_type": "code",
   "execution_count": 57,
   "id": "6c415328",
   "metadata": {},
   "outputs": [
    {
     "data": {
      "image/png": "[encoded data removed]",
      "text/plain": [
       "<Figure size 432x288 with 1 Axes>"
      ]
     },
     "metadata": {},
     "output_type": "display_data"
    },
    {
     "data": {
      "text/plain": [
       "STUDENT    10\n",
       "WORKING     2\n",
       "Name: Type, dtype: int64"
      ]
     },
     "execution_count": 57,
     "metadata": {},
     "output_type": "execute_result"
    }
   ],
   "source": [
    "plt.pie(df_7[df_7['R-7-01-21']>9]['Type'].value_counts(),labels=df_7[df_7['R-7-01-21']>9]['Type'].unique())\n",
    "plt.show()\n",
    "df_7[df_7['R-7-01-21']>9]['Type'].value_counts()"
   ]
  },
  {
   "cell_type": "code",
   "execution_count": 59,
   "id": "1a0cb877",
   "metadata": {},
   "outputs": [
    {
     "data": {
      "image/png": "[encoded data removed]",
      "text/plain": [
       "<Figure size 720x360 with 2 Axes>"
      ]
     },
     "metadata": {
      "needs_background": "light"
     },
     "output_type": "display_data"
    }
   ],
   "source": [
    "sns.catplot('Type',col='07-01-2021',kind='count',data=df)\n",
    "plt.show()"
   ]
  },
  {
   "cell_type": "code",
   "execution_count": 60,
   "id": "11bf59e9",
   "metadata": {},
   "outputs": [
    {
     "data": {
      "text/plain": [
       "<AxesSubplot:xlabel='Type', ylabel='count'>"
      ]
     },
     "execution_count": 60,
     "metadata": {},
     "output_type": "execute_result"
    },
    {
     "data": {
      "image/png": "[encoded data removed]",
      "text/plain": [
       "<Figure size 432x288 with 1 Axes>"
      ]
     },
     "metadata": {
      "needs_background": "light"
     },
     "output_type": "display_data"
    }
   ],
   "source": [
    "sns.countplot(x='Type',\n",
    "             hue='R-7-01-21',\n",
    "             data=df)"
   ]
  },
  {
   "cell_type": "code",
   "execution_count": 61,
   "id": "244919b7",
   "metadata": {},
   "outputs": [
    {
     "data": {
      "image/png": "[encoded data removed]",
      "text/plain": [
       "<Figure size 432x288 with 1 Axes>"
      ]
     },
     "metadata": {},
     "output_type": "display_data"
    },
    {
     "data": {
      "text/plain": [
       "STUDENT    6\n",
       "WORKING    1\n",
       "Name: Type, dtype: int64"
      ]
     },
     "execution_count": 61,
     "metadata": {},
     "output_type": "execute_result"
    }
   ],
   "source": [
    "plt.pie(df_6[df_6['R-6-01-21']>9]['Type'].value_counts(),labels=df_6[df_6['R-6-01-21']>9]['Type'].unique())\n",
    "plt.show()\n",
    "df_6[df_6['R-6-01-21']>9]['Type'].value_counts()"
   ]
  },
  {
   "cell_type": "code",
   "execution_count": 63,
   "id": "1a96b330",
   "metadata": {},
   "outputs": [
    {
     "data": {
      "image/png": "[encoded data removed]",
      "text/plain": [
       "<Figure size 720x360 with 2 Axes>"
      ]
     },
     "metadata": {
      "needs_background": "light"
     },
     "output_type": "display_data"
    }
   ],
   "source": [
    "sns.catplot('Type',col='06-01-2021',kind='count',data=df)\n",
    "plt.show()"
   ]
  },
  {
   "cell_type": "code",
   "execution_count": 64,
   "id": "d7cc5605",
   "metadata": {},
   "outputs": [
    {
     "data": {
      "text/plain": [
       "<AxesSubplot:xlabel='Type', ylabel='count'>"
      ]
     },
     "execution_count": 64,
     "metadata": {},
     "output_type": "execute_result"
    },
    {
     "data": {
      "image/png": "[encoded data removed]",
      "text/plain": [
       "<Figure size 432x288 with 1 Axes>"
      ]
     },
     "metadata": {
      "needs_background": "light"
     },
     "output_type": "display_data"
    }
   ],
   "source": [
    "sns.countplot(x='Type',\n",
    "             hue='R-6-01-21',\n",
    "             data=df)"
   ]
  },
  {
   "cell_type": "code",
   "execution_count": 65,
   "id": "99ce3ce5",
   "metadata": {},
   "outputs": [
    {
     "data": {
      "image/png": "[encoded data removed]",
      "text/plain": [
       "<Figure size 432x288 with 1 Axes>"
      ]
     },
     "metadata": {},
     "output_type": "display_data"
    },
    {
     "data": {
      "text/plain": [
       "STUDENT    8\n",
       "WORKING    1\n",
       "IGNORE     1\n",
       "Name: Type, dtype: int64"
      ]
     },
     "execution_count": 65,
     "metadata": {},
     "output_type": "execute_result"
    }
   ],
   "source": [
    "plt.pie(df_5[df_5['R-5-01-21']>9]['Type'].value_counts(),labels=df_5[df_5['R-5-01-21']>9]['Type'].unique())\n",
    "plt.show()\n",
    "df_5[df_5['R-5-01-21']>9]['Type'].value_counts()"
   ]
  },
  {
   "cell_type": "code",
   "execution_count": 67,
   "id": "509dfb7a",
   "metadata": {},
   "outputs": [
    {
     "data": {
      "image/png": "[encoded data removed]",
      "text/plain": [
       "<Figure size 720x360 with 2 Axes>"
      ]
     },
     "metadata": {
      "needs_background": "light"
     },
     "output_type": "display_data"
    }
   ],
   "source": [
    "sns.catplot('Type',col='05-01-2021',kind='count',data=df)\n",
    "plt.show()"
   ]
  },
  {
   "cell_type": "code",
   "execution_count": 68,
   "id": "6a366b9d",
   "metadata": {},
   "outputs": [
    {
     "data": {
      "text/plain": [
       "<AxesSubplot:xlabel='Type', ylabel='count'>"
      ]
     },
     "execution_count": 68,
     "metadata": {},
     "output_type": "execute_result"
    },
    {
     "data": {
      "image/png": "[encoded data removed]",
      "text/plain": [
       "<Figure size 432x288 with 1 Axes>"
      ]
     },
     "metadata": {
      "needs_background": "light"
     },
     "output_type": "display_data"
    }
   ],
   "source": [
    "sns.countplot(x='Type',\n",
    "             hue='R-5-01-21',\n",
    "             data=df)"
   ]
  },
  {
   "cell_type": "code",
   "execution_count": 69,
   "id": "616e665b",
   "metadata": {},
   "outputs": [
    {
     "data": {
      "image/png": "[encoded data removed]",
      "text/plain": [
       "<Figure size 432x288 with 1 Axes>"
      ]
     },
     "metadata": {},
     "output_type": "display_data"
    },
    {
     "data": {
      "text/plain": [
       "STUDENT    8\n",
       "IGNORE     1\n",
       "WORKING    1\n",
       "Name: Type, dtype: int64"
      ]
     },
     "execution_count": 69,
     "metadata": {},
     "output_type": "execute_result"
    }
   ],
   "source": [
    "plt.pie(df_4[df_4['R-4-01-21']>9]['Type'].value_counts(),labels=df_4[df_4['R-4-01-21']>9]['Type'].unique())\n",
    "plt.show()\n",
    "df_4[df_4['R-4-01-21']>9]['Type'].value_counts()"
   ]
  },
  {
   "cell_type": "code",
   "execution_count": 71,
   "id": "753885f8",
   "metadata": {},
   "outputs": [
    {
     "data": {
      "image/png": "[encoded data removed]",
      "text/plain": [
       "<Figure size 720x360 with 2 Axes>"
      ]
     },
     "metadata": {
      "needs_background": "light"
     },
     "output_type": "display_data"
    }
   ],
   "source": [
    "sns.catplot('Type',col='04-01-2021',kind='count',data=df)\n",
    "plt.show()"
   ]
  },
  {
   "cell_type": "code",
   "execution_count": 72,
   "id": "29c1c4ab",
   "metadata": {},
   "outputs": [
    {
     "data": {
      "text/plain": [
       "<AxesSubplot:xlabel='Type', ylabel='count'>"
      ]
     },
     "execution_count": 72,
     "metadata": {},
     "output_type": "execute_result"
    },
    {
     "data": {
      "image/png": "[encoded data removed]",
      "text/plain": [
       "<Figure size 432x288 with 1 Axes>"
      ]
     },
     "metadata": {
      "needs_background": "light"
     },
     "output_type": "display_data"
    }
   ],
   "source": [
    "sns.countplot(x='Type',\n",
    "             hue='R-4-01-21',\n",
    "             data=df)"
   ]
  },
  {
   "cell_type": "code",
   "execution_count": 73,
   "id": "6c2de533",
   "metadata": {},
   "outputs": [
    {
     "data": {
      "image/png": "[encoded data removed]",
      "text/plain": [
       "<Figure size 432x288 with 1 Axes>"
      ]
     },
     "metadata": {},
     "output_type": "display_data"
    },
    {
     "data": {
      "text/plain": [
       "STUDENT    7\n",
       "WORKING    3\n",
       "Name: Type, dtype: int64"
      ]
     },
     "execution_count": 73,
     "metadata": {},
     "output_type": "execute_result"
    }
   ],
   "source": [
    "plt.pie(df_3[df_3['R-3-01-21']>9]['Type'].value_counts(),labels=df_3[df_3['R-3-01-21']>9]['Type'].unique())\n",
    "plt.show()\n",
    "df_3[df_3['R-3-01-21']>9]['Type'].value_counts()"
   ]
  },
  {
   "cell_type": "code",
   "execution_count": 75,
   "id": "54eb64d2",
   "metadata": {},
   "outputs": [
    {
     "data": {
      "image/png": "[encoded data removed]",
      "text/plain": [
       "<Figure size 720x360 with 2 Axes>"
      ]
     },
     "metadata": {
      "needs_background": "light"
     },
     "output_type": "display_data"
    }
   ],
   "source": [
    "sns.catplot('Type',col='03-01-2021',kind='count',data=df)\n",
    "plt.show()"
   ]
  },
  {
   "cell_type": "code",
   "execution_count": 76,
   "id": "5594c897",
   "metadata": {},
   "outputs": [
    {
     "data": {
      "text/plain": [
       "<AxesSubplot:xlabel='Type', ylabel='count'>"
      ]
     },
     "execution_count": 76,
     "metadata": {},
     "output_type": "execute_result"
    },
    {
     "data": {
      "image/png": "[encoded data removed]",
      "text/plain": [
       "<Figure size 432x288 with 1 Axes>"
      ]
     },
     "metadata": {
      "needs_background": "light"
     },
     "output_type": "display_data"
    }
   ],
   "source": [
    "sns.countplot(x='Type',\n",
    "             hue='R-3-01-21',\n",
    "             data=df)"
   ]
  },
  {
   "cell_type": "code",
   "execution_count": 77,
   "id": "cd9fb9b9",
   "metadata": {},
   "outputs": [
    {
     "data": {
      "image/png": "[encoded data removed]",
      "text/plain": [
       "<Figure size 432x288 with 1 Axes>"
      ]
     },
     "metadata": {},
     "output_type": "display_data"
    },
    {
     "data": {
      "text/plain": [
       "STUDENT    7\n",
       "WORKING    1\n",
       "Name: Type, dtype: int64"
      ]
     },
     "execution_count": 77,
     "metadata": {},
     "output_type": "execute_result"
    }
   ],
   "source": [
    "plt.pie(df_2[df_2['R-02-01-21']>9]['Type'].value_counts(),labels=df_2[df_2['R-02-01-21']>9]['Type'].unique())\n",
    "plt.show()\n",
    "df_2[df_2['R-02-01-21']>9]['Type'].value_counts()"
   ]
  },
  {
   "cell_type": "code",
   "execution_count": 79,
   "id": "2be67122",
   "metadata": {},
   "outputs": [
    {
     "data": {
      "image/png": "[encoded data removed]",
      "text/plain": [
       "<Figure size 720x360 with 2 Axes>"
      ]
     },
     "metadata": {
      "needs_background": "light"
     },
     "output_type": "display_data"
    }
   ],
   "source": [
    "sns.catplot('Type',col='02-01-2021',kind='count',data=df)\n",
    "plt.show()"
   ]
  },
  {
   "cell_type": "code",
   "execution_count": 80,
   "id": "0b0b91f9",
   "metadata": {},
   "outputs": [
    {
     "data": {
      "text/plain": [
       "<AxesSubplot:xlabel='Type', ylabel='count'>"
      ]
     },
     "execution_count": 80,
     "metadata": {},
     "output_type": "execute_result"
    },
    {
     "data": {
      "image/png": "[encoded data removed]",
      "text/plain": [
       "<Figure size 432x288 with 1 Axes>"
      ]
     },
     "metadata": {
      "needs_background": "light"
     },
     "output_type": "display_data"
    }
   ],
   "source": [
    "sns.countplot(x='Type',\n",
    "             hue='R-02-01-21',\n",
    "             data=df)"
   ]
  },
  {
   "cell_type": "code",
   "execution_count": 81,
   "id": "edbcaaf4",
   "metadata": {},
   "outputs": [
    {
     "data": {
      "image/png": "[encoded data removed]",
      "text/plain": [
       "<Figure size 432x288 with 1 Axes>"
      ]
     },
     "metadata": {},
     "output_type": "display_data"
    },
    {
     "data": {
      "text/plain": [
       "STUDENT    9\n",
       "DROPOUT    1\n",
       "Name: Type, dtype: int64"
      ]
     },
     "execution_count": 81,
     "metadata": {},
     "output_type": "execute_result"
    }
   ],
   "source": [
    "plt.pie(df_1[df_1['R-01-01-21']>9]['Type'].value_counts(),labels=df_1[df_1['R-01-01-21']>9]['Type'].unique())\n",
    "plt.show()\n",
    "df_1[df_1['R-01-01-21']>9]['Type'].value_counts()"
   ]
  },
  {
   "cell_type": "code",
   "execution_count": 83,
   "id": "7ed62eb3",
   "metadata": {},
   "outputs": [
    {
     "data": {
      "image/png": "[encoded data removed]",
      "text/plain": [
       "<Figure size 720x360 with 2 Axes>"
      ]
     },
     "metadata": {
      "needs_background": "light"
     },
     "output_type": "display_data"
    }
   ],
   "source": [
    "sns.catplot('Type',col='01-01-2021',kind='count',data=df)\n",
    "plt.show()"
   ]
  },
  {
   "cell_type": "code",
   "execution_count": 84,
   "id": "630a2577",
   "metadata": {},
   "outputs": [
    {
     "data": {
      "text/plain": [
       "<AxesSubplot:xlabel='Type', ylabel='count'>"
      ]
     },
     "execution_count": 84,
     "metadata": {},
     "output_type": "execute_result"
    },
    {
     "data": {
      "image/png": "[encoded data removed]",
      "text/plain": [
       "<Figure size 432x288 with 1 Axes>"
      ]
     },
     "metadata": {
      "needs_background": "light"
     },
     "output_type": "display_data"
    }
   ],
   "source": [
    "sns.countplot(x='Type',\n",
    "             hue='R-01-01-21',\n",
    "             data=df)"
   ]
  },
  {
   "cell_type": "markdown",
   "id": "ffbf27fd",
   "metadata": {},
   "source": [
    "# For class 2"
   ]
  },
  {
   "cell_type": "code",
   "execution_count": 85,
   "id": "3cbb93e1",
   "metadata": {},
   "outputs": [
    {
     "name": "stdout",
     "output_type": "stream",
     "text": [
      "ModeResult(mode=array([[[5],\n",
      "        [16]]], dtype=object), count=array([[[3],\n",
      "        [5]]]))\n"
     ]
    }
   ],
   "source": [
    "total_score1 = []\n",
    "for i in df2.columns:\n",
    "    if i[0] == 'R':\n",
    "        total_score1.append(scipy.stats.mode(df2[i]))\n",
    "print(scipy.stats.mode(total_score1))"
   ]
  },
  {
   "cell_type": "code",
   "execution_count": 87,
   "id": "6b44466a",
   "metadata": {},
   "outputs": [
    {
     "name": "stdout",
     "output_type": "stream",
     "text": [
      "[415, 423, 399, 433, 418, 432]\n"
     ]
    }
   ],
   "source": [
    "# SUMMING UP ALL THE PARTICULAR RATINGS FROM DIFFERENT DAYS\n",
    "rating = [5,6,7,8,9,10]\n",
    "total_rating_count =[]\n",
    "for r in rating:\n",
    "    count =0\n",
    "    rating_count = []\n",
    "    for i in df2.columns:\n",
    "        if i[0] == 'R':\n",
    "            for j in df2[i]:\n",
    "                if j == r:\n",
    "                    count+=1\n",
    "            rating_count.append(count)\n",
    "    total_rating_count.append(sum(rating_count))\n",
    "print(total_rating_count)"
   ]
  },
  {
   "cell_type": "code",
   "execution_count": 88,
   "id": "3940859a",
   "metadata": {},
   "outputs": [
    {
     "data": {
      "image/png": "[encoded data removed]",
      "text/plain": [
       "<Figure size 432x288 with 1 Axes>"
      ]
     },
     "metadata": {
      "needs_background": "light"
     },
     "output_type": "display_data"
    }
   ],
   "source": [
    "plt.bar(rating,total_rating_count)\n",
    "plt.title('Total Rating From Different Days')\n",
    "plt.show()"
   ]
  },
  {
   "cell_type": "code",
   "execution_count": 89,
   "id": "3ff2ef0b",
   "metadata": {},
   "outputs": [
    {
     "data": {
      "image/png": "[encoded data removed]",
      "text/plain": [
       "<Figure size 432x288 with 1 Axes>"
      ]
     },
     "metadata": {},
     "output_type": "display_data"
    },
    {
     "data": {
      "text/plain": [
       "STUDENT    8\n",
       "WORKING    4\n",
       "Name: Type, dtype: int64"
      ]
     },
     "execution_count": 89,
     "metadata": {},
     "output_type": "execute_result"
    }
   ],
   "source": [
    "plt.pie(df2_10[df2_10['R-10-01-21']>9]['Type'].value_counts(),labels=df2_10[df2_10['R-10-01-21']>9]['Type'].unique())\n",
    "plt.show()\n",
    "df2_10[df2_10['R-10-01-21']>9]['Type'].value_counts()"
   ]
  },
  {
   "cell_type": "code",
   "execution_count": 91,
   "id": "fd3724e5",
   "metadata": {},
   "outputs": [
    {
     "data": {
      "image/png": "[encoded data removed]",
      "text/plain": [
       "<Figure size 720x360 with 2 Axes>"
      ]
     },
     "metadata": {
      "needs_background": "light"
     },
     "output_type": "display_data"
    }
   ],
   "source": [
    "sns.catplot('Type',col='10-01-21',kind='count',data=df2)\n",
    "plt.show()"
   ]
  },
  {
   "cell_type": "code",
   "execution_count": 92,
   "id": "f85b89c7",
   "metadata": {},
   "outputs": [
    {
     "data": {
      "text/plain": [
       "<AxesSubplot:xlabel='Type', ylabel='count'>"
      ]
     },
     "execution_count": 92,
     "metadata": {},
     "output_type": "execute_result"
    },
    {
     "data": {
      "image/png": "[encoded data removed]",
      "text/plain": [
       "<Figure size 432x288 with 1 Axes>"
      ]
     },
     "metadata": {
      "needs_background": "light"
     },
     "output_type": "display_data"
    }
   ],
   "source": [
    "sns.countplot(x='Type',\n",
    "             hue='R-10-01-21',\n",
    "             data=df2)"
   ]
  },
  {
   "cell_type": "code",
   "execution_count": 93,
   "id": "cad95ca2",
   "metadata": {},
   "outputs": [
    {
     "data": {
      "image/png": "[encoded data removed]",
      "text/plain": [
       "<Figure size 432x288 with 1 Axes>"
      ]
     },
     "metadata": {},
     "output_type": "display_data"
    },
    {
     "data": {
      "text/plain": [
       "STUDENT    7\n",
       "WORKING    3\n",
       "IGNORE     2\n",
       "Name: Type, dtype: int64"
      ]
     },
     "execution_count": 93,
     "metadata": {},
     "output_type": "execute_result"
    }
   ],
   "source": [
    "plt.pie(df2_9[df2_9['R-9-01-21']>9]['Type'].value_counts(),labels=df2_9[df2_9['R-9-01-21']>9]['Type'].unique())\n",
    "plt.show()\n",
    "df2_9[df2_9['R-9-01-21']>9]['Type'].value_counts()"
   ]
  },
  {
   "cell_type": "code",
   "execution_count": 95,
   "id": "9d0dbc80",
   "metadata": {},
   "outputs": [
    {
     "data": {
      "image/png": "[encoded data removed]",
      "text/plain": [
       "<Figure size 720x360 with 2 Axes>"
      ]
     },
     "metadata": {
      "needs_background": "light"
     },
     "output_type": "display_data"
    }
   ],
   "source": [
    "sns.catplot('Type',col='09-01-21',kind='count',data=df2)\n",
    "plt.show()"
   ]
  },
  {
   "cell_type": "code",
   "execution_count": 96,
   "id": "144f5cfc",
   "metadata": {},
   "outputs": [
    {
     "data": {
      "text/plain": [
       "<AxesSubplot:xlabel='Type', ylabel='count'>"
      ]
     },
     "execution_count": 96,
     "metadata": {},
     "output_type": "execute_result"
    },
    {
     "data": {
      "image/png": "[encoded data removed]",
      "text/plain": [
       "<Figure size 432x288 with 1 Axes>"
      ]
     },
     "metadata": {
      "needs_background": "light"
     },
     "output_type": "display_data"
    }
   ],
   "source": [
    "sns.countplot(x='Type',\n",
    "             hue='R-9-01-21',\n",
    "             data=df2)"
   ]
  },
  {
   "cell_type": "code",
   "execution_count": 97,
   "id": "68a91aac",
   "metadata": {},
   "outputs": [
    {
     "data": {
      "text/plain": [
       "Index(['Student Roll Num', 'Type', '10-01-21', 'R-10-01-21', '09-01-21',\n",
       "       'R-9-01-21', '08-01-21', 'R-8-01-21', '07-01-21', 'R-7-01-21',\n",
       "       '06-01-21', 'R-6-01-21', '05-01-21', 'R-5-01-21', '04-01-21',\n",
       "       'R-4-01-21', '03-01-21', 'R-3-01-21'],\n",
       "      dtype='object')"
      ]
     },
     "execution_count": 97,
     "metadata": {},
     "output_type": "execute_result"
    }
   ],
   "source": [
    "df2.columns"
   ]
  },
  {
   "cell_type": "code",
   "execution_count": 99,
   "id": "a35721a2",
   "metadata": {},
   "outputs": [
    {
     "data": {
      "image/png": "[encoded data removed]",
      "text/plain": [
       "<Figure size 432x288 with 1 Axes>"
      ]
     },
     "metadata": {},
     "output_type": "display_data"
    },
    {
     "data": {
      "text/plain": [
       "STUDENT    7\n",
       "WORKING    4\n",
       "Name: Type, dtype: int64"
      ]
     },
     "execution_count": 99,
     "metadata": {},
     "output_type": "execute_result"
    }
   ],
   "source": [
    "plt.pie(df2_8[df2_8['R-8-01-21']>9]['Type'].value_counts(),labels=df2_8[df2_8['R-8-01-21']>9]['Type'].unique())\n",
    "plt.show()\n",
    "df2_8[df2_8['R-8-01-21']>9]['Type'].value_counts()"
   ]
  },
  {
   "cell_type": "code",
   "execution_count": 100,
   "id": "972d4906",
   "metadata": {},
   "outputs": [
    {
     "data": {
      "image/png": "[encoded data removed]",
      "text/plain": [
       "<Figure size 720x360 with 2 Axes>"
      ]
     },
     "metadata": {
      "needs_background": "light"
     },
     "output_type": "display_data"
    }
   ],
   "source": [
    "sns.catplot('Type',col='08-01-21',kind='count',data=df2)\n",
    "plt.show()"
   ]
  },
  {
   "cell_type": "code",
   "execution_count": 102,
   "id": "df1f3057",
   "metadata": {},
   "outputs": [
    {
     "data": {
      "text/plain": [
       "<AxesSubplot:xlabel='Type', ylabel='count'>"
      ]
     },
     "execution_count": 102,
     "metadata": {},
     "output_type": "execute_result"
    },
    {
     "data": {
      "image/png": "[encoded data removed]",
      "text/plain": [
       "<Figure size 432x288 with 1 Axes>"
      ]
     },
     "metadata": {
      "needs_background": "light"
     },
     "output_type": "display_data"
    }
   ],
   "source": [
    "sns.countplot(x='Type',\n",
    "             hue='R-8-01-21',\n",
    "             data=df2)"
   ]
  },
  {
   "cell_type": "code",
   "execution_count": 103,
   "id": "f022c23b",
   "metadata": {},
   "outputs": [
    {
     "data": {
      "image/png": "[encoded data removed]",
      "text/plain": [
       "<Figure size 432x288 with 1 Axes>"
      ]
     },
     "metadata": {},
     "output_type": "display_data"
    },
    {
     "data": {
      "text/plain": [
       "STUDENT    8\n",
       "WORKING    4\n",
       "IGNORE     2\n",
       "Name: Type, dtype: int64"
      ]
     },
     "execution_count": 103,
     "metadata": {},
     "output_type": "execute_result"
    }
   ],
   "source": [
    "plt.pie(df2_7[df2_7['R-7-01-21']>9]['Type'].value_counts(),labels=df2_7[df2_7['R-7-01-21']>9]['Type'].unique())\n",
    "plt.show()\n",
    "df2_7[df2_7['R-7-01-21']>9]['Type'].value_counts()"
   ]
  },
  {
   "cell_type": "code",
   "execution_count": 104,
   "id": "0b7b48aa",
   "metadata": {},
   "outputs": [
    {
     "data": {
      "image/png": "[encoded data removed]",
      "text/plain": [
       "<Figure size 720x360 with 2 Axes>"
      ]
     },
     "metadata": {
      "needs_background": "light"
     },
     "output_type": "display_data"
    }
   ],
   "source": [
    "sns.catplot('Type',col='07-01-21',kind='count',data=df2)\n",
    "plt.show()"
   ]
  },
  {
   "cell_type": "code",
   "execution_count": 105,
   "id": "c0e81ea7",
   "metadata": {},
   "outputs": [
    {
     "data": {
      "text/plain": [
       "<AxesSubplot:xlabel='Type', ylabel='count'>"
      ]
     },
     "execution_count": 105,
     "metadata": {},
     "output_type": "execute_result"
    },
    {
     "data": {
      "image/png": "[encoded data removed]",
      "text/plain": [
       "<Figure size 432x288 with 1 Axes>"
      ]
     },
     "metadata": {
      "needs_background": "light"
     },
     "output_type": "display_data"
    }
   ],
   "source": [
    "sns.countplot(x='Type',\n",
    "             hue='R-7-01-21',\n",
    "             data=df2)"
   ]
  },
  {
   "cell_type": "code",
   "execution_count": 106,
   "id": "c1b44989",
   "metadata": {},
   "outputs": [
    {
     "data": {
      "image/png": "[encoded data removed]",
      "text/plain": [
       "<Figure size 432x288 with 1 Axes>"
      ]
     },
     "metadata": {},
     "output_type": "display_data"
    },
    {
     "data": {
      "text/plain": [
       "STUDENT    4\n",
       "WORKING    3\n",
       "IGNORE     1\n",
       "Name: Type, dtype: int64"
      ]
     },
     "execution_count": 106,
     "metadata": {},
     "output_type": "execute_result"
    }
   ],
   "source": [
    "plt.pie(df2_6[df2_6['R-6-01-21']>9]['Type'].value_counts(),labels=df2_6[df2_6['R-6-01-21']>9]['Type'].unique())\n",
    "plt.show()\n",
    "df2_6[df2_6['R-6-01-21']>9]['Type'].value_counts()"
   ]
  },
  {
   "cell_type": "code",
   "execution_count": 107,
   "id": "b4ed22ac",
   "metadata": {},
   "outputs": [
    {
     "data": {
      "image/png": "[encoded data removed]",
      "text/plain": [
       "<Figure size 720x360 with 2 Axes>"
      ]
     },
     "metadata": {
      "needs_background": "light"
     },
     "output_type": "display_data"
    }
   ],
   "source": [
    "sns.catplot('Type',col='06-01-21',kind='count',data=df2)\n",
    "plt.show()"
   ]
  },
  {
   "cell_type": "code",
   "execution_count": 108,
   "id": "f6dfcd16",
   "metadata": {},
   "outputs": [
    {
     "data": {
      "text/plain": [
       "<AxesSubplot:xlabel='Type', ylabel='count'>"
      ]
     },
     "execution_count": 108,
     "metadata": {},
     "output_type": "execute_result"
    },
    {
     "data": {
      "image/png": "[encoded data removed]",
      "text/plain": [
       "<Figure size 432x288 with 1 Axes>"
      ]
     },
     "metadata": {
      "needs_background": "light"
     },
     "output_type": "display_data"
    }
   ],
   "source": [
    "sns.countplot(x='Type',\n",
    "             hue='R-6-01-21',\n",
    "             data=df2)"
   ]
  },
  {
   "cell_type": "code",
   "execution_count": 109,
   "id": "b56b2918",
   "metadata": {},
   "outputs": [
    {
     "data": {
      "text/plain": [
       "STUDENT    8\n",
       "WORKING    3\n",
       "DROPOUT    1\n",
       "IGNORE     1\n",
       "Name: Type, dtype: int64"
      ]
     },
     "execution_count": 109,
     "metadata": {},
     "output_type": "execute_result"
    },
    {
     "data": {
      "image/png": "[encoded data removed]",
      "text/plain": [
       "<Figure size 432x288 with 1 Axes>"
      ]
     },
     "metadata": {},
     "output_type": "display_data"
    }
   ],
   "source": [
    "plt.pie(df2_5[df2_5['R-5-01-21']>9]['Type'].value_counts(),labels=df2_5[df2_5['R-5-01-21']>9]['Type'].unique())\n",
    "# plt.show()\n",
    "df2_5[df2_5['R-5-01-21']>9]['Type'].value_counts()"
   ]
  },
  {
   "cell_type": "code",
   "execution_count": 110,
   "id": "639f9284",
   "metadata": {},
   "outputs": [
    {
     "data": {
      "image/png": "[encoded data removed]",
      "text/plain": [
       "<Figure size 720x360 with 2 Axes>"
      ]
     },
     "metadata": {
      "needs_background": "light"
     },
     "output_type": "display_data"
    }
   ],
   "source": [
    "sns.catplot('Type',col='05-01-21',kind='count',data=df2)\n",
    "plt.show()"
   ]
  },
  {
   "cell_type": "code",
   "execution_count": 111,
   "id": "2d28f870",
   "metadata": {},
   "outputs": [
    {
     "data": {
      "text/plain": [
       "<AxesSubplot:xlabel='Type', ylabel='count'>"
      ]
     },
     "execution_count": 111,
     "metadata": {},
     "output_type": "execute_result"
    },
    {
     "data": {
      "image/png": "[encoded data removed]",
      "text/plain": [
       "<Figure size 432x288 with 1 Axes>"
      ]
     },
     "metadata": {
      "needs_background": "light"
     },
     "output_type": "display_data"
    }
   ],
   "source": [
    "sns.countplot(x='Type',\n",
    "             hue='R-5-01-21',\n",
    "             data=df2)"
   ]
  },
  {
   "cell_type": "code",
   "execution_count": 112,
   "id": "164b2527",
   "metadata": {},
   "outputs": [
    {
     "data": {
      "image/png": "[encoded data removed]",
      "text/plain": [
       "<Figure size 432x288 with 1 Axes>"
      ]
     },
     "metadata": {},
     "output_type": "display_data"
    },
    {
     "data": {
      "text/plain": [
       "STUDENT    11\n",
       "WORKING     4\n",
       "IGNORE      1\n",
       "Name: Type, dtype: int64"
      ]
     },
     "execution_count": 112,
     "metadata": {},
     "output_type": "execute_result"
    }
   ],
   "source": [
    "plt.pie(df2_4[df2_4['R-4-01-21']>9]['Type'].value_counts(),labels=df2_4[df2_4['R-4-01-21']>9]['Type'].unique())\n",
    "plt.show()\n",
    "df2_4[df2_4['R-4-01-21']>9]['Type'].value_counts()"
   ]
  },
  {
   "cell_type": "code",
   "execution_count": 113,
   "id": "3c49eb6c",
   "metadata": {},
   "outputs": [
    {
     "data": {
      "image/png": "[encoded data removed]",
      "text/plain": [
       "<Figure size 720x360 with 2 Axes>"
      ]
     },
     "metadata": {
      "needs_background": "light"
     },
     "output_type": "display_data"
    }
   ],
   "source": [
    "sns.catplot('Type',col='04-01-21',kind='count',data=df2)\n",
    "plt.show()"
   ]
  },
  {
   "cell_type": "code",
   "execution_count": 114,
   "id": "1cd36e6b",
   "metadata": {},
   "outputs": [
    {
     "data": {
      "text/plain": [
       "<AxesSubplot:xlabel='Type', ylabel='count'>"
      ]
     },
     "execution_count": 114,
     "metadata": {},
     "output_type": "execute_result"
    },
    {
     "data": {
      "image/png": "[encoded data removed]",
      "text/plain": [
       "<Figure size 432x288 with 1 Axes>"
      ]
     },
     "metadata": {
      "needs_background": "light"
     },
     "output_type": "display_data"
    }
   ],
   "source": [
    "sns.countplot(x='Type',\n",
    "             hue='R-4-01-21',\n",
    "             data=df2)"
   ]
  },
  {
   "cell_type": "code",
   "execution_count": 115,
   "id": "9b4bd8a3",
   "metadata": {},
   "outputs": [
    {
     "data": {
      "image/png": "[encoded data removed]",
      "text/plain": [
       "<Figure size 432x288 with 1 Axes>"
      ]
     },
     "metadata": {},
     "output_type": "display_data"
    },
    {
     "data": {
      "text/plain": [
       "STUDENT    7\n",
       "WORKING    5\n",
       "IGNORE     1\n",
       "Name: Type, dtype: int64"
      ]
     },
     "execution_count": 115,
     "metadata": {},
     "output_type": "execute_result"
    }
   ],
   "source": [
    "plt.pie(df2_3[df2_3['R-3-01-21']>9]['Type'].value_counts(),labels=df2_3[df2_3['R-3-01-21']>9]['Type'].unique())\n",
    "plt.show()\n",
    "df2_3[df2_3['R-3-01-21']>9]['Type'].value_counts()"
   ]
  },
  {
   "cell_type": "code",
   "execution_count": 116,
   "id": "36c5ea43",
   "metadata": {},
   "outputs": [
    {
     "data": {
      "image/png": "[encoded data removed]",
      "text/plain": [
       "<Figure size 720x360 with 2 Axes>"
      ]
     },
     "metadata": {
      "needs_background": "light"
     },
     "output_type": "display_data"
    }
   ],
   "source": [
    "sns.catplot('Type',col='03-01-21',kind='count',data=df2)\n",
    "plt.show()"
   ]
  },
  {
   "cell_type": "code",
   "execution_count": 117,
   "id": "10961bea",
   "metadata": {},
   "outputs": [
    {
     "data": {
      "text/plain": [
       "<AxesSubplot:xlabel='Type', ylabel='count'>"
      ]
     },
     "execution_count": 117,
     "metadata": {},
     "output_type": "execute_result"
    },
    {
     "data": {
      "image/png": "[encoded data removed]",
      "text/plain": [
       "<Figure size 432x288 with 1 Axes>"
      ]
     },
     "metadata": {
      "needs_background": "light"
     },
     "output_type": "display_data"
    }
   ],
   "source": [
    "sns.countplot(x='Type',\n",
    "             hue='R-3-01-21',\n",
    "             data=df2)"
   ]
  },
  {
   "cell_type": "code",
   "execution_count": null,
   "id": "cc5fc710",
   "metadata": {},
   "outputs": [],
   "source": []
  }
 ],
 "metadata": {
  "kernelspec": {
   "display_name": "Python 3",
   "language": "python",
   "name": "python3"
  },
  "language_info": {
   "codemirror_mode": {
    "name": "ipython",
    "version": 3
   },
   "file_extension": ".py",
   "mimetype": "text/x-python",
   "name": "python",
   "nbconvert_exporter": "python",
   "pygments_lexer": "ipython3",
   "version": "3.9.4"
  }
 },
 "nbformat": 4,
 "nbformat_minor": 5
}
